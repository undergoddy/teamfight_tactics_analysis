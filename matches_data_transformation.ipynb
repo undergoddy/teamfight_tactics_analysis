{
 "cells": [
  {
   "cell_type": "code",
   "execution_count": 1,
   "id": "5599792b",
   "metadata": {},
   "outputs": [],
   "source": [
    "import pandas as pd\n",
    "import json\n",
    "from tqdm import tqdm"
   ]
  },
  {
   "cell_type": "code",
   "execution_count": 2,
   "id": "2fb275be",
   "metadata": {},
   "outputs": [],
   "source": [
    "# game classification values extraction functions\n",
    "\n",
    "# get all versions of games availiable in data\n",
    "def get_game_versions(data=[]):\n",
    "    game_versions = []\n",
    "    for game_version in data:\n",
    "        game_versions.append(game_version['info']['game_version'])\n",
    "    return set(game_versions)\n",
    "\n",
    "# get all game types availiable in data\n",
    "def get_game_types(data=[]):\n",
    "    game_types = []\n",
    "    for game_type in data:\n",
    "        game_types.append(game_type['info']['tft_game_type'])\n",
    "    return set(game_types)\n",
    "\n",
    "# get all sets availiable in data\n",
    "def get_set(data=[]):\n",
    "    sets = []\n",
    "    for set_name in data:\n",
    "        try:\n",
    "            sets.append(set_name['info']['tft_set_core_name'])\n",
    "        except:\n",
    "            pass\n",
    "    return set(sets)\n",
    "\n",
    "# get all queue types availiable in data\n",
    "def get_queue(data=[]):\n",
    "    queues = []\n",
    "    for queue in data:\n",
    "        queues.append(queue['info']['queue_id'])\n",
    "    return set(queues)"
   ]
  },
  {
   "cell_type": "code",
   "execution_count": 8,
   "id": "a1752ac7",
   "metadata": {},
   "outputs": [],
   "source": [
    "# extract matches of one version of game\n",
    "def get_matches_by_game_version(data=[], game_ver=''):    \n",
    "    one_version_matches = []\n",
    "    for match in data:\n",
    "        if match['info']['game_version'].split(' ')[-1] == game_ver:\n",
    "            one_version_matches.append(match)\n",
    "    return one_version_matches\n",
    "\n",
    "# extract matches of one game type\n",
    "def get_matches_by_game_type(data=[], game_type=''):\n",
    "    matches_by_gametype = []\n",
    "    for match in data:\n",
    "        if match['info']['tft_game_type'] == game_type:\n",
    "            matches_by_gametype.append(match)\n",
    "    return matches_by_gametype\n",
    "\n",
    "# extract matches of one set\n",
    "def get_matches_by_set(data=[], game_set=[]):    \n",
    "    one_set_matches = []\n",
    "    for match in tqdm(data):\n",
    "        try:\n",
    "            if match['info']['tft_set_core_name'] in game_set:\n",
    "                one_set_matches.append(match)\n",
    "        except:\n",
    "            pass\n",
    "    return one_set_matches"
   ]
  },
  {
   "cell_type": "code",
   "execution_count": 10,
   "id": "528aef3b",
   "metadata": {},
   "outputs": [],
   "source": [
    "# get some augments stats functions\n",
    "def get_augments_placement(data=[]):\n",
    "    augments = []\n",
    "    for j in tqdm(data):\n",
    "        for i in range(len(j['info']['participants'])):\n",
    "            d = {'augments':j['info']['participants'][i]['augments'], \n",
    "                 'placement':j['info']['participants'][i]['placement'], \n",
    "                 'patch':j['info']['game_version'],\n",
    "                 'set':j['info']['tft_set_core_name'],\n",
    "                 'region':j['region']}\n",
    "            augments.append(d)\n",
    "    return augments\n",
    "\n",
    "def get_augments_frequency(data=pd.DataFrame()):\n",
    "    return data.groupby(['augments', 'patch', 'set', 'region'], as_index=False) \\\n",
    "                .agg({'placement':'count'}) \\\n",
    "                .sort_values(by='placement', ascending=False) \\\n",
    "                .rename(columns={'placement':'frequency'})\n",
    "\n",
    "def get_augments_placement_mean(data=pd.DataFrame()):\n",
    "    return data.groupby(['augments', 'patch', 'set', 'region'], as_index=False) \\\n",
    "                .agg({'placement':'mean'}) \\\n",
    "                .sort_values(by='placement') \\\n",
    "                .round(2)"
   ]
  },
  {
   "cell_type": "code",
   "execution_count": 11,
   "id": "56f0926f",
   "metadata": {},
   "outputs": [],
   "source": [
    "# get characters bound with items and their placement in game\n",
    "def get_char_item_placement(data=[]):\n",
    "    char_items_placement = []\n",
    "    for game in tqdm(data):\n",
    "        for i in range(len(game['info']['participants'])):\n",
    "            for j in range(len(game['info']['participants'][i]['units'])):\n",
    "                d = {'character_id':game['info']['participants'][i]['units'][j]['character_id'],\n",
    "                     'itemNames':   game['info']['participants'][i]['units'][j]['itemNames'],\n",
    "                     'rarity':      game['info']['participants'][i]['units'][j]['rarity'],\n",
    "                     'tier':        game['info']['participants'][i]['units'][j]['tier'],\n",
    "                     'placement':   game['info']['participants'][i]['placement'],\n",
    "                     'patch':       game['info']['game_version'],\n",
    "                     'set':         game['info']['tft_set_core_name'],\n",
    "                     'region':      game['region']}\n",
    "                char_items_placement.append(d)\n",
    "    return char_items_placement\n",
    "\n",
    "# get only char placements\n",
    "def get_char_placement(data=[]):\n",
    "    char_placement = []\n",
    "    for game in tqdm(data):\n",
    "        for i in range(len(game['info']['participants'])):\n",
    "            for j in range(len(game['info']['participants'][i]['units'])):\n",
    "                d = {'character_id':game['info']['participants'][i]['units'][j]['character_id'],\n",
    "                     'rarity':      game['info']['participants'][i]['units'][j]['rarity'],\n",
    "                     'tier':        game['info']['participants'][i]['units'][j]['tier'],\n",
    "                     'placement':   game['info']['participants'][i]['placement'],\n",
    "                     'patch':       game['info']['game_version'],\n",
    "                     'set':         game['info']['tft_set_core_name'],\n",
    "                     'region':      game['region']}\n",
    "                char_placement.append(d)\n",
    "    return char_placement"
   ]
  },
  {
   "cell_type": "code",
   "execution_count": 6,
   "id": "6c8d4831",
   "metadata": {},
   "outputs": [],
   "source": [
    "# utility functions\n",
    "\n",
    "# patch naming can be frustrating. Stripping function to simple 'xx.xx' type\n",
    "def simplify_patch_string(data=pd.DataFrame):\n",
    "    data.patch = data.patch.apply(lambda x: x.split('Releases/')[-1][:-1])\n",
    "    return data\n",
    "\n",
    "# func to make augment names more readable\n",
    "def aug_name_split(data=pd.DataFrame):\n",
    "    return data.apply(lambda data: data.split('_Augment_')[-1])"
   ]
  },
  {
   "cell_type": "code",
   "execution_count": 7,
   "id": "b6c28516",
   "metadata": {},
   "outputs": [],
   "source": [
    "with open('path to parsed jsons', 'r') as r:\n",
    "    df = json.load(r)"
   ]
  },
  {
   "cell_type": "code",
   "execution_count": 66,
   "id": "e98ff0b4",
   "metadata": {},
   "outputs": [
    {
     "data": {
      "text/plain": [
       "63795"
      ]
     },
     "execution_count": 66,
     "metadata": {},
     "output_type": "execute_result"
    }
   ],
   "source": [
    "len(df)"
   ]
  },
  {
   "cell_type": "code",
   "execution_count": 13,
   "id": "9e7627a5",
   "metadata": {},
   "outputs": [
    {
     "data": {
      "text/plain": [
       "{'pairs', 'standard', 'turbo', 'tutorial'}"
      ]
     },
     "execution_count": 13,
     "metadata": {},
     "output_type": "execute_result"
    }
   ],
   "source": [
    "get_game_types(df)"
   ]
  },
  {
   "cell_type": "code",
   "execution_count": 14,
   "id": "13bbb278",
   "metadata": {},
   "outputs": [
    {
     "data": {
      "text/plain": [
       "{'Version 12.23.483.5208 (Dec 05 2022/14:03:09) [PUBLIC] <Releases/12.23>',\n",
       " 'Version 13.1.487.9641 (Jan 06 2023/15:09:01) [PUBLIC] <Releases/13.1>',\n",
       " 'Version 13.1.489.0970 (Jan 12 2023/13:44:40) [PUBLIC] <Releases/13.1>',\n",
       " 'Version 13.1.489.3737 (Jan 13 2023/15:43:46) [PUBLIC] <Releases/13.1>',\n",
       " 'Version 13.3.491.0366 (Feb 06 2023/15:18:04) [PUBLIC] <Releases/13.3>',\n",
       " 'Version 13.3.491.6222 (Feb 09 2023/14:51:50) [PUBLIC] <Releases/13.3>',\n",
       " 'Version 13.4.493.7613 (Feb 21 2023/16:23:09) [PUBLIC] <Releases/13.4>',\n",
       " 'Version 13.4.494.1549 (Feb 23 2023/13:51:24) [PUBLIC] <Releases/13.4>',\n",
       " 'Version 13.5.495.8836 (Mar 03 2023/18:17:19) [PUBLIC] <Releases/13.5>',\n",
       " 'Version 13.6.499.0913 (Mar 20 2023/16:29:01) [PUBLIC] <Releases/13.6>',\n",
       " 'Version 13.6.499.7165 (Mar 23 2023/14:00:55) [PUBLIC] <Releases/13.6>',\n",
       " 'Version 13.6.499.7758 (Mar 23 2023/18:53:26) [PUBLIC] <Releases/13.6>',\n",
       " 'Version 13.7.501.1316 (Mar 30 2023/15:09:16) [PUBLIC] <Releases/13.7>',\n",
       " 'Version 13.7.502.2251 (Apr 05 2023/14:26:43) [PUBLIC] <Releases/13.7>',\n",
       " 'Version 13.7.502.2586 (Apr 05 2023/17:20:42) [PUBLIC] <Releases/13.7>',\n",
       " 'Version 13.7.502.7579 (Apr 07 2023/15:28:12) [PUBLIC] <Releases/13.7>',\n",
       " 'Version 13.7.503.1019 (Apr 10 2023/12:29:44) [PUBLIC] <Releases/13.7>',\n",
       " 'Version 13.8.504.1242 (Apr 14 2023/17:26:54) [PUBLIC] <Releases/13.8>',\n",
       " 'Version 13.8.505.1214 (Apr 20 2023/15:34:58) [PUBLIC] <Releases/13.8>',\n",
       " 'Version 13.9.506.4846 (Apr 28 2023/10:09:23) [PUBLIC] <Releases/13.9>'}"
      ]
     },
     "execution_count": 14,
     "metadata": {},
     "output_type": "execute_result"
    }
   ],
   "source": [
    "get_game_versions(df)"
   ]
  },
  {
   "cell_type": "code",
   "execution_count": 15,
   "id": "518bbd32",
   "metadata": {},
   "outputs": [
    {
     "data": {
      "text/plain": [
       "{1090, 1100, 1110, 1130, 1160}"
      ]
     },
     "execution_count": 15,
     "metadata": {},
     "output_type": "execute_result"
    }
   ],
   "source": [
    "get_queue(df)"
   ]
  },
  {
   "cell_type": "code",
   "execution_count": 16,
   "id": "424eac06",
   "metadata": {},
   "outputs": [
    {
     "data": {
      "text/plain": [
       "{'TFTSet8', 'TFTSet8_2', 'TFTTutorial'}"
      ]
     },
     "execution_count": 16,
     "metadata": {},
     "output_type": "execute_result"
    }
   ],
   "source": [
    "get_set(df)"
   ]
  },
  {
   "cell_type": "code",
   "execution_count": 17,
   "id": "0d1b8150",
   "metadata": {},
   "outputs": [
    {
     "name": "stderr",
     "output_type": "stream",
     "text": [
      "100%|███████████████████████████████████████████████████████████████████████| 63795/63795 [00:00<00:00, 1315055.33it/s]\n"
     ]
    }
   ],
   "source": [
    "# extract set 8.5, standard game type matches from matches pile\n",
    "matches_sorted = get_matches_by_game_type(get_matches_by_set(data=df, game_set=['TFTSet8_2']), game_type='standard')"
   ]
  },
  {
   "cell_type": "code",
   "execution_count": 18,
   "id": "7391ade0",
   "metadata": {},
   "outputs": [
    {
     "data": {
      "text/plain": [
       "60008"
      ]
     },
     "execution_count": 18,
     "metadata": {},
     "output_type": "execute_result"
    }
   ],
   "source": [
    "len(matches_sorted)"
   ]
  },
  {
   "cell_type": "code",
   "execution_count": 29,
   "id": "6a4ba082",
   "metadata": {},
   "outputs": [
    {
     "name": "stderr",
     "output_type": "stream",
     "text": [
      "100%|█████████████████████████████████████████████████████████████████████████| 60008/60008 [00:03<00:00, 17711.40it/s]\n"
     ]
    }
   ],
   "source": [
    "# df for position(1, 2, 3) divided augments\n",
    "augs_placement_pos_div = simplify_patch_string(pd.DataFrame(get_augments_placement(data=matches_sorted)))"
   ]
  },
  {
   "cell_type": "code",
   "execution_count": 30,
   "id": "facc75e5",
   "metadata": {},
   "outputs": [],
   "source": [
    "# transforming df to get placements of augments sequences\n",
    "augs_placement_pos_div['first_aug']  = augs_placement_pos_div.augments.str[0]\n",
    "augs_placement_pos_div['second_aug'] = augs_placement_pos_div.augments.str[1]\n",
    "augs_placement_pos_div['third_aug']  = augs_placement_pos_div.augments.str[2]\n",
    "\n",
    "augs_placement_pos_div.third_aug.fillna('None', inplace=True)\n",
    "augs_placement_pos_div = augs_placement_pos_div.dropna()\n",
    "\n",
    "augs_placement_pos_div[['first_aug', 'second_aug', 'third_aug']] = augs_placement_pos_div[['first_aug', 'second_aug', 'third_aug']].apply(aug_name_split)\n",
    "augs_placement_pos_div.drop(columns=['augments'], inplace=True)"
   ]
  },
  {
   "cell_type": "code",
   "execution_count": 42,
   "id": "35378e82",
   "metadata": {
    "scrolled": false
   },
   "outputs": [
    {
     "data": {
      "text/html": [
       "<div>\n",
       "<style scoped>\n",
       "    .dataframe tbody tr th:only-of-type {\n",
       "        vertical-align: middle;\n",
       "    }\n",
       "\n",
       "    .dataframe tbody tr th {\n",
       "        vertical-align: top;\n",
       "    }\n",
       "\n",
       "    .dataframe thead th {\n",
       "        text-align: right;\n",
       "    }\n",
       "</style>\n",
       "<table border=\"1\" class=\"dataframe\">\n",
       "  <thead>\n",
       "    <tr style=\"text-align: right;\">\n",
       "      <th></th>\n",
       "      <th>placement</th>\n",
       "      <th>patch</th>\n",
       "      <th>set</th>\n",
       "      <th>region</th>\n",
       "      <th>first_aug</th>\n",
       "      <th>second_aug</th>\n",
       "      <th>third_aug</th>\n",
       "    </tr>\n",
       "  </thead>\n",
       "  <tbody>\n",
       "    <tr>\n",
       "      <th>0</th>\n",
       "      <td>5</td>\n",
       "      <td>13.9</td>\n",
       "      <td>TFTSet8_2</td>\n",
       "      <td>BR1</td>\n",
       "      <td>ScopedWeapons1</td>\n",
       "      <td>JaxASCarry</td>\n",
       "      <td>SecondWind1</td>\n",
       "    </tr>\n",
       "    <tr>\n",
       "      <th>1</th>\n",
       "      <td>7</td>\n",
       "      <td>13.9</td>\n",
       "      <td>TFTSet8_2</td>\n",
       "      <td>BR1</td>\n",
       "      <td>Distancing2</td>\n",
       "      <td>NilahSupport</td>\n",
       "      <td>PandorasItems</td>\n",
       "    </tr>\n",
       "    <tr>\n",
       "      <th>2</th>\n",
       "      <td>8</td>\n",
       "      <td>13.9</td>\n",
       "      <td>TFTSet8_2</td>\n",
       "      <td>BR1</td>\n",
       "      <td>PortableForge</td>\n",
       "      <td>RellCarry</td>\n",
       "      <td>FuturePeepers</td>\n",
       "    </tr>\n",
       "    <tr>\n",
       "      <th>3</th>\n",
       "      <td>2</td>\n",
       "      <td>13.9</td>\n",
       "      <td>TFTSet8_2</td>\n",
       "      <td>BR1</td>\n",
       "      <td>TargetDummies</td>\n",
       "      <td>ShenSupport</td>\n",
       "      <td>SecondWind1</td>\n",
       "    </tr>\n",
       "    <tr>\n",
       "      <th>4</th>\n",
       "      <td>1</td>\n",
       "      <td>13.9</td>\n",
       "      <td>TFTSet8_2</td>\n",
       "      <td>BR1</td>\n",
       "      <td>JeweledLotus</td>\n",
       "      <td>CamilleSupport</td>\n",
       "      <td>HackerTrait</td>\n",
       "    </tr>\n",
       "    <tr>\n",
       "      <th>...</th>\n",
       "      <td>...</td>\n",
       "      <td>...</td>\n",
       "      <td>...</td>\n",
       "      <td>...</td>\n",
       "      <td>...</td>\n",
       "      <td>...</td>\n",
       "      <td>...</td>\n",
       "    </tr>\n",
       "    <tr>\n",
       "      <th>480059</th>\n",
       "      <td>5</td>\n",
       "      <td>13.8</td>\n",
       "      <td>TFTSet8_2</td>\n",
       "      <td>TR1</td>\n",
       "      <td>InfiniteamEmblem</td>\n",
       "      <td>PortableForge</td>\n",
       "      <td>TwistedFateSupport</td>\n",
       "    </tr>\n",
       "    <tr>\n",
       "      <th>480060</th>\n",
       "      <td>4</td>\n",
       "      <td>13.8</td>\n",
       "      <td>TFTSet8_2</td>\n",
       "      <td>TR1</td>\n",
       "      <td>TrueTwos</td>\n",
       "      <td>RichGetRicherPlus</td>\n",
       "      <td>NeekoSupport</td>\n",
       "    </tr>\n",
       "    <tr>\n",
       "      <th>480061</th>\n",
       "      <td>8</td>\n",
       "      <td>13.8</td>\n",
       "      <td>TFTSet8_2</td>\n",
       "      <td>TR1</td>\n",
       "      <td>RichGetRicher</td>\n",
       "      <td>TradeSectorPlus</td>\n",
       "      <td>GarenSupport</td>\n",
       "    </tr>\n",
       "    <tr>\n",
       "      <th>480062</th>\n",
       "      <td>6</td>\n",
       "      <td>13.8</td>\n",
       "      <td>TFTSet8_2</td>\n",
       "      <td>TR1</td>\n",
       "      <td>Distancing2</td>\n",
       "      <td>ComponentGrabBag</td>\n",
       "      <td>TwistedFateCarry</td>\n",
       "    </tr>\n",
       "    <tr>\n",
       "      <th>480063</th>\n",
       "      <td>1</td>\n",
       "      <td>13.8</td>\n",
       "      <td>TFTSet8_2</td>\n",
       "      <td>TR1</td>\n",
       "      <td>TomeOfTraits1</td>\n",
       "      <td>FirstAidKit2</td>\n",
       "      <td>NeekoSupport</td>\n",
       "    </tr>\n",
       "  </tbody>\n",
       "</table>\n",
       "<p>478492 rows × 7 columns</p>\n",
       "</div>"
      ],
      "text/plain": [
       "        placement patch        set region         first_aug  \\\n",
       "0               5  13.9  TFTSet8_2    BR1    ScopedWeapons1   \n",
       "1               7  13.9  TFTSet8_2    BR1       Distancing2   \n",
       "2               8  13.9  TFTSet8_2    BR1     PortableForge   \n",
       "3               2  13.9  TFTSet8_2    BR1     TargetDummies   \n",
       "4               1  13.9  TFTSet8_2    BR1      JeweledLotus   \n",
       "...           ...   ...        ...    ...               ...   \n",
       "480059          5  13.8  TFTSet8_2    TR1  InfiniteamEmblem   \n",
       "480060          4  13.8  TFTSet8_2    TR1          TrueTwos   \n",
       "480061          8  13.8  TFTSet8_2    TR1     RichGetRicher   \n",
       "480062          6  13.8  TFTSet8_2    TR1       Distancing2   \n",
       "480063          1  13.8  TFTSet8_2    TR1     TomeOfTraits1   \n",
       "\n",
       "               second_aug           third_aug  \n",
       "0              JaxASCarry         SecondWind1  \n",
       "1            NilahSupport       PandorasItems  \n",
       "2               RellCarry       FuturePeepers  \n",
       "3             ShenSupport         SecondWind1  \n",
       "4          CamilleSupport         HackerTrait  \n",
       "...                   ...                 ...  \n",
       "480059      PortableForge  TwistedFateSupport  \n",
       "480060  RichGetRicherPlus        NeekoSupport  \n",
       "480061    TradeSectorPlus        GarenSupport  \n",
       "480062   ComponentGrabBag    TwistedFateCarry  \n",
       "480063       FirstAidKit2        NeekoSupport  \n",
       "\n",
       "[478492 rows x 7 columns]"
      ]
     },
     "execution_count": 42,
     "metadata": {},
     "output_type": "execute_result"
    }
   ],
   "source": [
    "augs_placement_pos_div"
   ]
  },
  {
   "cell_type": "code",
   "execution_count": 39,
   "id": "fd109cbb",
   "metadata": {},
   "outputs": [],
   "source": [
    "# saving\n",
    "augs_placement_pos_div.to_csv('path', sep=',')"
   ]
  },
  {
   "cell_type": "markdown",
   "id": "497a4f93",
   "metadata": {},
   "source": [
    "___"
   ]
  },
  {
   "cell_type": "code",
   "execution_count": 43,
   "id": "cbb78aa1",
   "metadata": {},
   "outputs": [
    {
     "name": "stderr",
     "output_type": "stream",
     "text": [
      "100%|█████████████████████████████████████████████████████████████████████████| 60008/60008 [00:04<00:00, 12107.10it/s]\n"
     ]
    }
   ],
   "source": [
    "# simple characters placement\n",
    "chars_placement = simplify_patch_string(data=pd.DataFrame(get_char_placement(data=matches_sorted)))"
   ]
  },
  {
   "cell_type": "code",
   "execution_count": 44,
   "id": "c84d6769",
   "metadata": {},
   "outputs": [
    {
     "data": {
      "text/html": [
       "<div>\n",
       "<style scoped>\n",
       "    .dataframe tbody tr th:only-of-type {\n",
       "        vertical-align: middle;\n",
       "    }\n",
       "\n",
       "    .dataframe tbody tr th {\n",
       "        vertical-align: top;\n",
       "    }\n",
       "\n",
       "    .dataframe thead th {\n",
       "        text-align: right;\n",
       "    }\n",
       "</style>\n",
       "<table border=\"1\" class=\"dataframe\">\n",
       "  <thead>\n",
       "    <tr style=\"text-align: right;\">\n",
       "      <th></th>\n",
       "      <th>character_id</th>\n",
       "      <th>rarity</th>\n",
       "      <th>tier</th>\n",
       "      <th>placement</th>\n",
       "      <th>patch</th>\n",
       "      <th>set</th>\n",
       "      <th>region</th>\n",
       "    </tr>\n",
       "  </thead>\n",
       "  <tbody>\n",
       "    <tr>\n",
       "      <th>0</th>\n",
       "      <td>TFT8_Blitzcrank</td>\n",
       "      <td>0</td>\n",
       "      <td>2</td>\n",
       "      <td>5</td>\n",
       "      <td>13.9</td>\n",
       "      <td>TFTSet8_2</td>\n",
       "      <td>BR1</td>\n",
       "    </tr>\n",
       "    <tr>\n",
       "      <th>1</th>\n",
       "      <td>TFT8_Vi</td>\n",
       "      <td>1</td>\n",
       "      <td>2</td>\n",
       "      <td>5</td>\n",
       "      <td>13.9</td>\n",
       "      <td>TFTSet8_2</td>\n",
       "      <td>BR1</td>\n",
       "    </tr>\n",
       "    <tr>\n",
       "      <th>2</th>\n",
       "      <td>TFT8_Pyke</td>\n",
       "      <td>1</td>\n",
       "      <td>1</td>\n",
       "      <td>5</td>\n",
       "      <td>13.9</td>\n",
       "      <td>TFTSet8_2</td>\n",
       "      <td>BR1</td>\n",
       "    </tr>\n",
       "    <tr>\n",
       "      <th>3</th>\n",
       "      <td>TFT8_Riven</td>\n",
       "      <td>2</td>\n",
       "      <td>3</td>\n",
       "      <td>5</td>\n",
       "      <td>13.9</td>\n",
       "      <td>TFTSet8_2</td>\n",
       "      <td>BR1</td>\n",
       "    </tr>\n",
       "    <tr>\n",
       "      <th>4</th>\n",
       "      <td>TFT8_Jax</td>\n",
       "      <td>2</td>\n",
       "      <td>3</td>\n",
       "      <td>5</td>\n",
       "      <td>13.9</td>\n",
       "      <td>TFTSet8_2</td>\n",
       "      <td>BR1</td>\n",
       "    </tr>\n",
       "    <tr>\n",
       "      <th>...</th>\n",
       "      <td>...</td>\n",
       "      <td>...</td>\n",
       "      <td>...</td>\n",
       "      <td>...</td>\n",
       "      <td>...</td>\n",
       "      <td>...</td>\n",
       "      <td>...</td>\n",
       "    </tr>\n",
       "    <tr>\n",
       "      <th>3902033</th>\n",
       "      <td>TFT8_Ekko</td>\n",
       "      <td>4</td>\n",
       "      <td>2</td>\n",
       "      <td>1</td>\n",
       "      <td>13.8</td>\n",
       "      <td>TFTSet8_2</td>\n",
       "      <td>TR1</td>\n",
       "    </tr>\n",
       "    <tr>\n",
       "      <th>3902034</th>\n",
       "      <td>TFT8_Viego</td>\n",
       "      <td>4</td>\n",
       "      <td>2</td>\n",
       "      <td>1</td>\n",
       "      <td>13.8</td>\n",
       "      <td>TFTSet8_2</td>\n",
       "      <td>TR1</td>\n",
       "    </tr>\n",
       "    <tr>\n",
       "      <th>3902035</th>\n",
       "      <td>TFT8_TwistedFate</td>\n",
       "      <td>4</td>\n",
       "      <td>2</td>\n",
       "      <td>1</td>\n",
       "      <td>13.8</td>\n",
       "      <td>TFTSet8_2</td>\n",
       "      <td>TR1</td>\n",
       "    </tr>\n",
       "    <tr>\n",
       "      <th>3902036</th>\n",
       "      <td>TFT8_Neeko</td>\n",
       "      <td>4</td>\n",
       "      <td>2</td>\n",
       "      <td>1</td>\n",
       "      <td>13.8</td>\n",
       "      <td>TFTSet8_2</td>\n",
       "      <td>TR1</td>\n",
       "    </tr>\n",
       "    <tr>\n",
       "      <th>3902037</th>\n",
       "      <td>TFT8_Janna</td>\n",
       "      <td>6</td>\n",
       "      <td>2</td>\n",
       "      <td>1</td>\n",
       "      <td>13.8</td>\n",
       "      <td>TFTSet8_2</td>\n",
       "      <td>TR1</td>\n",
       "    </tr>\n",
       "  </tbody>\n",
       "</table>\n",
       "<p>3902038 rows × 7 columns</p>\n",
       "</div>"
      ],
      "text/plain": [
       "             character_id  rarity  tier  placement patch        set region\n",
       "0         TFT8_Blitzcrank       0     2          5  13.9  TFTSet8_2    BR1\n",
       "1                 TFT8_Vi       1     2          5  13.9  TFTSet8_2    BR1\n",
       "2               TFT8_Pyke       1     1          5  13.9  TFTSet8_2    BR1\n",
       "3              TFT8_Riven       2     3          5  13.9  TFTSet8_2    BR1\n",
       "4                TFT8_Jax       2     3          5  13.9  TFTSet8_2    BR1\n",
       "...                   ...     ...   ...        ...   ...        ...    ...\n",
       "3902033         TFT8_Ekko       4     2          1  13.8  TFTSet8_2    TR1\n",
       "3902034        TFT8_Viego       4     2          1  13.8  TFTSet8_2    TR1\n",
       "3902035  TFT8_TwistedFate       4     2          1  13.8  TFTSet8_2    TR1\n",
       "3902036        TFT8_Neeko       4     2          1  13.8  TFTSet8_2    TR1\n",
       "3902037        TFT8_Janna       6     2          1  13.8  TFTSet8_2    TR1\n",
       "\n",
       "[3902038 rows x 7 columns]"
      ]
     },
     "execution_count": 44,
     "metadata": {},
     "output_type": "execute_result"
    }
   ],
   "source": [
    "chars_placement"
   ]
  },
  {
   "cell_type": "markdown",
   "id": "23d3e807",
   "metadata": {},
   "source": [
    "___"
   ]
  },
  {
   "cell_type": "code",
   "execution_count": 45,
   "id": "4356d683",
   "metadata": {},
   "outputs": [
    {
     "name": "stderr",
     "output_type": "stream",
     "text": [
      "100%|██████████████████████████████████████████████████████████████████████████| 60008/60008 [00:09<00:00, 6272.55it/s]\n"
     ]
    }
   ],
   "source": [
    "# creating char-item dependent placement df\n",
    "chars_items_placement = simplify_patch_string(data=pd.DataFrame(get_char_item_placement(data=matches_sorted)).explode('itemNames'))"
   ]
  },
  {
   "cell_type": "code",
   "execution_count": 47,
   "id": "155520fb",
   "metadata": {},
   "outputs": [],
   "source": [
    "# cleaning and making readable naming for chars and items\n",
    "chars_items_placement = chars_items_placement.dropna()\n",
    "\n",
    "chars_items_placement.character_id = chars_items_placement.character_id.apply(lambda x: x.split('_')[-1])\n",
    "\n",
    "chars_items_placement.itemNames = chars_items_placement.itemNames.apply(lambda x: x.split('_Item_')[-1])"
   ]
  },
  {
   "cell_type": "code",
   "execution_count": 78,
   "id": "76db45cf",
   "metadata": {},
   "outputs": [
    {
     "data": {
      "text/html": [
       "<div>\n",
       "<style scoped>\n",
       "    .dataframe tbody tr th:only-of-type {\n",
       "        vertical-align: middle;\n",
       "    }\n",
       "\n",
       "    .dataframe tbody tr th {\n",
       "        vertical-align: top;\n",
       "    }\n",
       "\n",
       "    .dataframe thead th {\n",
       "        text-align: right;\n",
       "    }\n",
       "</style>\n",
       "<table border=\"1\" class=\"dataframe\">\n",
       "  <thead>\n",
       "    <tr style=\"text-align: right;\">\n",
       "      <th></th>\n",
       "      <th>character_id</th>\n",
       "      <th>itemNames</th>\n",
       "      <th>rarity</th>\n",
       "      <th>tier</th>\n",
       "      <th>placement</th>\n",
       "      <th>patch</th>\n",
       "      <th>set</th>\n",
       "      <th>region</th>\n",
       "    </tr>\n",
       "  </thead>\n",
       "  <tbody>\n",
       "    <tr>\n",
       "      <th>3</th>\n",
       "      <td>Riven</td>\n",
       "      <td>RedBuff</td>\n",
       "      <td>2</td>\n",
       "      <td>3</td>\n",
       "      <td>5</td>\n",
       "      <td>13.9</td>\n",
       "      <td>TFTSet8_2</td>\n",
       "      <td>BR1</td>\n",
       "    </tr>\n",
       "    <tr>\n",
       "      <th>3</th>\n",
       "      <td>Riven</td>\n",
       "      <td>TitansResolve</td>\n",
       "      <td>2</td>\n",
       "      <td>3</td>\n",
       "      <td>5</td>\n",
       "      <td>13.9</td>\n",
       "      <td>TFTSet8_2</td>\n",
       "      <td>BR1</td>\n",
       "    </tr>\n",
       "    <tr>\n",
       "      <th>3</th>\n",
       "      <td>Riven</td>\n",
       "      <td>FrozenHeart</td>\n",
       "      <td>2</td>\n",
       "      <td>3</td>\n",
       "      <td>5</td>\n",
       "      <td>13.9</td>\n",
       "      <td>TFTSet8_2</td>\n",
       "      <td>BR1</td>\n",
       "    </tr>\n",
       "    <tr>\n",
       "      <th>4</th>\n",
       "      <td>Jax</td>\n",
       "      <td>JeweledGauntlet</td>\n",
       "      <td>2</td>\n",
       "      <td>3</td>\n",
       "      <td>5</td>\n",
       "      <td>13.9</td>\n",
       "      <td>TFTSet8_2</td>\n",
       "      <td>BR1</td>\n",
       "    </tr>\n",
       "    <tr>\n",
       "      <th>4</th>\n",
       "      <td>Jax</td>\n",
       "      <td>Bloodthirster</td>\n",
       "      <td>2</td>\n",
       "      <td>3</td>\n",
       "      <td>5</td>\n",
       "      <td>13.9</td>\n",
       "      <td>TFTSet8_2</td>\n",
       "      <td>BR1</td>\n",
       "    </tr>\n",
       "    <tr>\n",
       "      <th>...</th>\n",
       "      <td>...</td>\n",
       "      <td>...</td>\n",
       "      <td>...</td>\n",
       "      <td>...</td>\n",
       "      <td>...</td>\n",
       "      <td>...</td>\n",
       "      <td>...</td>\n",
       "      <td>...</td>\n",
       "    </tr>\n",
       "    <tr>\n",
       "      <th>3902036</th>\n",
       "      <td>Neeko</td>\n",
       "      <td>HextechGunblade</td>\n",
       "      <td>4</td>\n",
       "      <td>2</td>\n",
       "      <td>1</td>\n",
       "      <td>13.8</td>\n",
       "      <td>TFTSet8_2</td>\n",
       "      <td>TR1</td>\n",
       "    </tr>\n",
       "    <tr>\n",
       "      <th>3902036</th>\n",
       "      <td>Neeko</td>\n",
       "      <td>SpearOfShojin</td>\n",
       "      <td>4</td>\n",
       "      <td>2</td>\n",
       "      <td>1</td>\n",
       "      <td>13.8</td>\n",
       "      <td>TFTSet8_2</td>\n",
       "      <td>TR1</td>\n",
       "    </tr>\n",
       "    <tr>\n",
       "      <th>3902036</th>\n",
       "      <td>Neeko</td>\n",
       "      <td>JeweledGauntlet</td>\n",
       "      <td>4</td>\n",
       "      <td>2</td>\n",
       "      <td>1</td>\n",
       "      <td>13.8</td>\n",
       "      <td>TFTSet8_2</td>\n",
       "      <td>TR1</td>\n",
       "    </tr>\n",
       "    <tr>\n",
       "      <th>3902037</th>\n",
       "      <td>Janna</td>\n",
       "      <td>SpearOfShojin</td>\n",
       "      <td>6</td>\n",
       "      <td>2</td>\n",
       "      <td>1</td>\n",
       "      <td>13.8</td>\n",
       "      <td>TFTSet8_2</td>\n",
       "      <td>TR1</td>\n",
       "    </tr>\n",
       "    <tr>\n",
       "      <th>3902037</th>\n",
       "      <td>Janna</td>\n",
       "      <td>OxForceEmblemItem</td>\n",
       "      <td>6</td>\n",
       "      <td>2</td>\n",
       "      <td>1</td>\n",
       "      <td>13.8</td>\n",
       "      <td>TFTSet8_2</td>\n",
       "      <td>TR1</td>\n",
       "    </tr>\n",
       "  </tbody>\n",
       "</table>\n",
       "<p>5037307 rows × 8 columns</p>\n",
       "</div>"
      ],
      "text/plain": [
       "        character_id          itemNames  rarity  tier  placement patch  \\\n",
       "3              Riven            RedBuff       2     3          5  13.9   \n",
       "3              Riven      TitansResolve       2     3          5  13.9   \n",
       "3              Riven        FrozenHeart       2     3          5  13.9   \n",
       "4                Jax    JeweledGauntlet       2     3          5  13.9   \n",
       "4                Jax      Bloodthirster       2     3          5  13.9   \n",
       "...              ...                ...     ...   ...        ...   ...   \n",
       "3902036        Neeko    HextechGunblade       4     2          1  13.8   \n",
       "3902036        Neeko      SpearOfShojin       4     2          1  13.8   \n",
       "3902036        Neeko    JeweledGauntlet       4     2          1  13.8   \n",
       "3902037        Janna      SpearOfShojin       6     2          1  13.8   \n",
       "3902037        Janna  OxForceEmblemItem       6     2          1  13.8   \n",
       "\n",
       "               set region  \n",
       "3        TFTSet8_2    BR1  \n",
       "3        TFTSet8_2    BR1  \n",
       "3        TFTSet8_2    BR1  \n",
       "4        TFTSet8_2    BR1  \n",
       "4        TFTSet8_2    BR1  \n",
       "...            ...    ...  \n",
       "3902036  TFTSet8_2    TR1  \n",
       "3902036  TFTSet8_2    TR1  \n",
       "3902036  TFTSet8_2    TR1  \n",
       "3902037  TFTSet8_2    TR1  \n",
       "3902037  TFTSet8_2    TR1  \n",
       "\n",
       "[5037307 rows x 8 columns]"
      ]
     },
     "execution_count": 78,
     "metadata": {},
     "output_type": "execute_result"
    }
   ],
   "source": [
    "chars_items_placement"
   ]
  },
  {
   "cell_type": "code",
   "execution_count": 81,
   "id": "96dbdaee",
   "metadata": {},
   "outputs": [],
   "source": [
    "# saving \n",
    "chars_items_placement.to_csv('path', sep=',')"
   ]
  },
  {
   "cell_type": "markdown",
   "id": "6e606615",
   "metadata": {},
   "source": [
    "___"
   ]
  },
  {
   "cell_type": "code",
   "execution_count": 6,
   "id": "8c2ccc88",
   "metadata": {},
   "outputs": [],
   "source": [
    "# creating lists of different types of items\n",
    "item_list = list(chars_items_placement.itemNames.unique())\n",
    "\n",
    "radiant_items = [i for i in item_list if 'Radiant' in i]\n",
    "\n",
    "emblem_item   = [i for i in item_list if 'EmblemItem' in i]\n",
    "\n",
    "genae_items   = [i for i in item_list if 'GenAE' in i]\n",
    "\n",
    "ornn_items    = [i for i in item_list if 'Ornn' in i]\n",
    "\n",
    "# items to exclude\n",
    "exclusive_items = emblem_item + genae_items + ornn_items + radiant_items\n",
    "\n",
    "component_items = ['TFT_Item_BFSword', 'TFT_Item_RecurveBow', 'TFT_Item_ChainVest', 'TFT_Item_NegatronCloak', 'TFT_Item_NeedlesslyLargeRod', 'TFT_Item_TearOfTheGoddess', 'TFT_Item_GiantsBelt', 'TFT_Item_SparringGloves', 'TFT_Item_Spatula']\n",
    "\n",
    "basic_items = ['TFT_Item_ArchangelsStaff', 'TFT_Item_Bloodthirster', 'TFT_Item_BrambleVest', 'TFT_Item_Chalice', 'TFT_Item_Deathblade', 'TFT_Item_DragonsClaw', 'TFT_Item_ForceOfNature', 'TFT_Item_GargoyleStoneplate', 'TFT_Item_GuinsoosRageblade', 'TFT_Item_HextechGunblade', 'TFT_Item_InfinityEdge', 'TFT_Item_IonicSpark', 'TFT_Item_JeweledGauntlet', 'TFT_Item_LastWhisper', 'TFT_Item_LocketOfTheIronSolari', 'TFT_Item_Morellonomicon', 'TFT_Item_Quicksilver', 'TFT_Item_RabadonsDeathcap', 'TFT_Item_RapidFireCannon', 'TFT_Item_Redemption', 'TFT_Item_RunaansHurricane', 'TFT_Item_Shroud', 'TFT_Item_SpearOfShojin', 'TFT_Item_StatikkShiv', 'TFT_Item_ThiefsGloves',  'TFT_Item_TitansResolve',  'TFT_Item_WarmogsArmor', 'TFT_Item_ZekesHerald', 'TFT_Item_Zephyr']"
   ]
  },
  {
   "cell_type": "code",
   "execution_count": null,
   "id": "7e6ce6f6",
   "metadata": {},
   "outputs": [],
   "source": [
    "# division by a type of item holded\n",
    "chars_items_plmnt_default_items = chars_items_placement.query('itemNames not in @exclusive_items')\n",
    "\n",
    "chars_items_plmnt_radiant_items = chars_items_placement.query('itemNames in @radiant_items')\n",
    "\n",
    "chars_items_plmnt_ornn_items = chars_items_placement.query('itemNames in @ornn_items')\n",
    "chars_items_plmnt_ornn_items.itemNames = chars_items_plmnt_ornn_items.itemNames.apply(lambda x: x.split('Ornn')[-1])"
   ]
  },
  {
   "cell_type": "code",
   "execution_count": 8,
   "id": "6bc19e4c",
   "metadata": {},
   "outputs": [],
   "source": [
    "# saving \n",
    "chars_items_plmnt_default_items.to_csv('path', sep=',')\n",
    "\n",
    "chars_items_plmnt_radiant_items.to_csv('path', sep=',')\n",
    "\n",
    "chars_items_plmnt_ornn_items.to_csv('path', sep=',')"
   ]
  }
 ],
 "metadata": {
  "kernelspec": {
   "display_name": "Python 3 (ipykernel)",
   "language": "python",
   "name": "python3"
  },
  "language_info": {
   "codemirror_mode": {
    "name": "ipython",
    "version": 3
   },
   "file_extension": ".py",
   "mimetype": "text/x-python",
   "name": "python",
   "nbconvert_exporter": "python",
   "pygments_lexer": "ipython3",
   "version": "3.9.12"
  }
 },
 "nbformat": 4,
 "nbformat_minor": 5
}
